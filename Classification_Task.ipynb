{
  "nbformat": 4,
  "nbformat_minor": 0,
  "metadata": {
    "colab": {
      "provenance": [],
      "gpuType": "T4"
    },
    "kernelspec": {
      "name": "python3",
      "display_name": "Python 3"
    },
    "language_info": {
      "name": "python"
    },
    "accelerator": "GPU"
  },
  "cells": [
    {
      "cell_type": "markdown",
      "source": [
        "1.Import and Load Data:\n",
        "\n"
      ],
      "metadata": {
        "id": "4uiXUP7k1IlF"
      }
    },
    {
      "cell_type": "code",
      "source": [
        "import numpy as np\n",
        "import pandas as pd\n",
        "import matplotlib.pyplot as plt\n",
        "from sklearn.model_selection import train_test_split\n",
        "from sklearn.preprocessing import StandardScaler, LabelEncoder\n",
        "from sklearn.linear_model import LogisticRegression\n",
        "from sklearn.tree import DecisionTreeClassifier\n",
        "from sklearn.ensemble import RandomForestClassifier\n",
        "from sklearn.neighbors import KNeighborsClassifier\n",
        "from sklearn.naive_bayes import GaussianNB\n",
        "from sklearn.svm import LinearSVC\n",
        "from sklearn.metrics import accuracy_score, precision_score, recall_score\n"
      ],
      "metadata": {
        "id": "y-wKHw0fcDt6"
      },
      "execution_count": 1,
      "outputs": []
    },
    {
      "cell_type": "markdown",
      "source": [
        "2.Load the Training Data:"
      ],
      "metadata": {
        "id": "LMQVuj3-1S3F"
      }
    },
    {
      "cell_type": "code",
      "source": [
        "# Load the training data\n",
        "train_file_path = \"/content/train.xlsx\"  # Update with the correct path\n",
        "dataset = pd.read_excel(train_file_path)\n",
        "\n",
        "# Split into features and target\n",
        "X = dataset.drop(columns=['target'])\n",
        "y = dataset['target']\n",
        "\n",
        "# Encode the target variable\n",
        "label_encoder = LabelEncoder()\n",
        "y = label_encoder.fit_transform(y)\n",
        "y"
      ],
      "metadata": {
        "colab": {
          "base_uri": "https://localhost:8080/"
        },
        "id": "BN_eFKZUicCr",
        "outputId": "4c9432a3-ea4d-490f-e450-ff3a057a075d"
      },
      "execution_count": 15,
      "outputs": [
        {
          "output_type": "execute_result",
          "data": {
            "text/plain": [
              "array([110, 137,  10, ...,  55,  91, 119])"
            ]
          },
          "metadata": {},
          "execution_count": 15
        }
      ]
    },
    {
      "cell_type": "markdown",
      "source": [
        "3.Split Data into Training and Test Sets:"
      ],
      "metadata": {
        "id": "dwNf8QXw1ejO"
      }
    },
    {
      "cell_type": "code",
      "source": [
        "X_train, X_test, y_train, y_test = train_test_split(X, y, test_size=0.25, random_state=0)\n"
      ],
      "metadata": {
        "id": "8gM-AQ02jCwA"
      },
      "execution_count": 3,
      "outputs": []
    },
    {
      "cell_type": "markdown",
      "source": [
        "4.Standardize the Features:"
      ],
      "metadata": {
        "id": "kPVTKr_J1kN-"
      }
    },
    {
      "cell_type": "code",
      "source": [
        "# Initialize the standard scaler\n",
        "scaler = StandardScaler()\n",
        "\n",
        "# Fit and transform the training data\n",
        "X_train = scaler.fit_transform(X_train)\n",
        "\n",
        "# Transform the test data\n",
        "X_test = scaler.transform(X_test)\n"
      ],
      "metadata": {
        "id": "rJSji4QU1h8u"
      },
      "execution_count": 4,
      "outputs": []
    },
    {
      "cell_type": "markdown",
      "source": [
        "5.Define and Train Models:"
      ],
      "metadata": {
        "id": "GWJjVHpH1pmi"
      }
    },
    {
      "cell_type": "code",
      "source": [
        "models = {\n",
        "    'Logistic Regression': LogisticRegression(),\n",
        "    'Support Vector Machines': LinearSVC(),\n",
        "    'Decision Trees': DecisionTreeClassifier(),\n",
        "    'Random Forest': RandomForestClassifier(),\n",
        "    'Naive Bayes': GaussianNB(),\n",
        "    'K-Nearest Neighbor': KNeighborsClassifier()\n",
        "}\n",
        "\n",
        "accuracy, precision, recall = {}, {}, {}\n",
        "\n",
        "for key in models.keys():\n",
        "    # Train the model\n",
        "    models[key].fit(X_train, y_train)\n",
        "\n",
        "    # Make predictions\n",
        "    predictions = models[key].predict(X_test)\n",
        "\n",
        "    # Calculate performance metrics\n",
        "    accuracy[key] = accuracy_score(y_test, predictions)\n",
        "    precision[key] = precision_score(y_test, predictions, average='macro')\n",
        "    recall[key] = recall_score(y_test, predictions, average='macro')\n"
      ],
      "metadata": {
        "colab": {
          "base_uri": "https://localhost:8080/"
        },
        "id": "iiyrabkp1nJV",
        "outputId": "8f7d2377-724f-4cbe-8414-04cafb1b14ab"
      },
      "execution_count": 5,
      "outputs": [
        {
          "output_type": "stream",
          "name": "stderr",
          "text": [
            "/usr/local/lib/python3.10/dist-packages/sklearn/linear_model/_logistic.py:458: ConvergenceWarning: lbfgs failed to converge (status=1):\n",
            "STOP: TOTAL NO. of ITERATIONS REACHED LIMIT.\n",
            "\n",
            "Increase the number of iterations (max_iter) or scale the data as shown in:\n",
            "    https://scikit-learn.org/stable/modules/preprocessing.html\n",
            "Please also refer to the documentation for alternative solver options:\n",
            "    https://scikit-learn.org/stable/modules/linear_model.html#logistic-regression\n",
            "  n_iter_i = _check_optimize_result(\n",
            "/usr/local/lib/python3.10/dist-packages/sklearn/svm/_base.py:1244: ConvergenceWarning: Liblinear failed to converge, increase the number of iterations.\n",
            "  warnings.warn(\n"
          ]
        }
      ]
    },
    {
      "cell_type": "markdown",
      "source": [
        "6.Compile Results into a DataFrame:"
      ],
      "metadata": {
        "id": "cIbT-aBh1v_z"
      }
    },
    {
      "cell_type": "code",
      "source": [
        "df_model = pd.DataFrame(index=models.keys(), columns=['Accuracy', 'Precision', 'Recall'])\n",
        "df_model['Accuracy'] = accuracy.values()\n",
        "df_model['Precision'] = precision.values()\n",
        "df_model['Recall'] = recall.values()\n",
        "\n",
        "# Display the DataFrame\n",
        "print(df_model)\n"
      ],
      "metadata": {
        "colab": {
          "base_uri": "https://localhost:8080/"
        },
        "id": "LWfHJgbf1sSB",
        "outputId": "641f9c51-a569-4dd0-f96b-77a83eaa4c12"
      },
      "execution_count": 7,
      "outputs": [
        {
          "output_type": "stream",
          "name": "stdout",
          "text": [
            "                         Accuracy  Precision    Recall\n",
            "Logistic Regression      0.972138   0.976949  0.976677\n",
            "Support Vector Machines  0.963104   0.968473  0.970526\n",
            "Decision Trees           0.966260   0.968887  0.968167\n",
            "Random Forest            0.986831   0.988278  0.988235\n",
            "Naive Bayes              0.958968   0.972232  0.965611\n",
            "K-Nearest Neighbor       0.983457   0.985162  0.986066\n"
          ]
        }
      ]
    },
    {
      "cell_type": "markdown",
      "source": [
        "7.Visualize the Results:"
      ],
      "metadata": {
        "id": "Ua7tRkps11rs"
      }
    },
    {
      "cell_type": "code",
      "source": [
        "ax = df_model.plot.barh()\n",
        "ax.legend(ncol=len(models.keys()), bbox_to_anchor=(0,1), loc='lower left', prop={'size': 14})\n",
        "plt.tight_layout()\n",
        "plt.show()\n"
      ],
      "metadata": {
        "colab": {
          "base_uri": "https://localhost:8080/",
          "height": 487
        },
        "id": "yUPuyRuj13va",
        "outputId": "ace14c5a-5ace-4ba1-a9b7-670cb9930e10"
      },
      "execution_count": 8,
      "outputs": [
        {
          "output_type": "display_data",
          "data": {
            "text/plain": [
              "<Figure size 640x480 with 1 Axes>"
            ],
            "image/png": "[encoded data removed]"
          },
          "metadata": {}
        }
      ]
    },
    {
      "cell_type": "markdown",
      "source": [
        "8.Save Predictions for Evaluation:"
      ],
      "metadata": {
        "id": "3GwvOzpl2JTB"
      }
    },
    {
      "cell_type": "code",
      "source": [
        "# Save the test predictions for each model\n",
        "test_predictions = {}\n",
        "for key in models.keys():\n",
        "    test_predictions[key] = models[key].predict(X_test)\n",
        "\n",
        "# Convert predictions to DataFrame and save to Excel\n",
        "predictions_df = pd.DataFrame(test_predictions)\n",
        "predictions_df['True Labels'] = y_test\n",
        "predictions_df.to_excel(\"test_predictions.xlsx\", index=False)\n"
      ],
      "metadata": {
        "id": "OSShy_pm18Qw"
      },
      "execution_count": 9,
      "outputs": []
    },
    {
      "cell_type": "code",
      "source": [
        "# 1. Load the test data\n",
        "test_file_path = \"/content/test.xlsx\"  # Update with the correct path\n",
        "test_dataset = pd.read_excel(test_file_path)\n",
        "\n",
        "# 2. Preprocess the test data (similar to how you preprocessed the training data)\n",
        "# For example, encode categorical variables and standardize features\n",
        "test_X = test_dataset  # Assuming 'target' column is not present in the test data\n",
        "\n",
        "# Encode categorical variables (if any)\n",
        "# Apply any other preprocessing steps (e.g., handling missing values) as done for the training data\n",
        "\n",
        "# Standardize features using the same scaler used for training data\n",
        "#est_X = ss_train.transform(test_X)  # Assuming 'ss_train' is the StandardScaler object used for training data\n",
        "\n",
        "# 3. Use the trained models to make predictions on the test data\n",
        "test_predictions = {}\n",
        "for key, model in models.items():\n",
        "    test_predictions[key] = model.predict(test_X)\n",
        "\n",
        "# 4. Optionally, save the predictions for evaluation\n",
        "# Convert predictions to DataFrame and save to Excel\n",
        "test_predictions_df = pd.DataFrame(test_predictions)\n",
        "test_predictions_df.to_excel(\"test_predictions.xlsx\", index=False)\n",
        "\n",
        "# Alternatively, if you want to append predictions to the test dataset and save it\n",
        "test_dataset['predicted_target'] = test_predictions['Logistic Regression']\n",
        "test_dataset.to_excel(\"test_with_predictions.xlsx\", index=False)\n"
      ],
      "metadata": {
        "colab": {
          "base_uri": "https://localhost:8080/"
        },
        "id": "hWA1riQd55eG",
        "outputId": "167e9afd-f57b-43a6-9d2b-30c53af5b87c"
      },
      "execution_count": 17,
      "outputs": [
        {
          "output_type": "stream",
          "name": "stderr",
          "text": [
            "/usr/local/lib/python3.10/dist-packages/sklearn/base.py:432: UserWarning: X has feature names, but LogisticRegression was fitted without feature names\n",
            "  warnings.warn(\n",
            "/usr/local/lib/python3.10/dist-packages/sklearn/base.py:432: UserWarning: X has feature names, but LinearSVC was fitted without feature names\n",
            "  warnings.warn(\n",
            "/usr/local/lib/python3.10/dist-packages/sklearn/base.py:432: UserWarning: X has feature names, but DecisionTreeClassifier was fitted without feature names\n",
            "  warnings.warn(\n",
            "/usr/local/lib/python3.10/dist-packages/sklearn/base.py:432: UserWarning: X has feature names, but RandomForestClassifier was fitted without feature names\n",
            "  warnings.warn(\n",
            "/usr/local/lib/python3.10/dist-packages/sklearn/base.py:432: UserWarning: X has feature names, but GaussianNB was fitted without feature names\n",
            "  warnings.warn(\n",
            "/usr/local/lib/python3.10/dist-packages/sklearn/base.py:432: UserWarning: X has feature names, but KNeighborsClassifier was fitted without feature names\n",
            "  warnings.warn(\n"
          ]
        }
      ]
    },
    {
      "cell_type": "markdown",
      "source": [
        "I have uses the Logistic Regression because among all the alogithms it works quite good on test dataset"
      ],
      "metadata": {
        "id": "I3ar0VeL8xWr"
      }
    },
    {
      "cell_type": "code",
      "source": [],
      "metadata": {
        "id": "NWMSL7-k3bss"
      },
      "execution_count": null,
      "outputs": []
    }
  ]
}