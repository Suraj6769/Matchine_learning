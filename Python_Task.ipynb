{
  "nbformat": 4,
  "nbformat_minor": 0,
  "metadata": {
    "colab": {
      "provenance": []
    },
    "kernelspec": {
      "name": "python3",
      "display_name": "Python 3"
    },
    "language_info": {
      "name": "python"
    }
  },
  "cells": [
    {
      "cell_type": "code",
      "source": [
        "!pip install pandas xlsxwriter\n"
      ],
      "metadata": {
        "colab": {
          "base_uri": "https://localhost:8080/"
        },
        "id": "aIxdhm1ioWST",
        "outputId": "2eff782b-f8d1-4b6c-82ba-ad391452be97"
      },
      "execution_count": 2,
      "outputs": [
        {
          "output_type": "stream",
          "name": "stdout",
          "text": [
            "Requirement already satisfied: pandas in /usr/local/lib/python3.10/dist-packages (2.0.3)\n",
            "Collecting xlsxwriter\n",
            "  Downloading XlsxWriter-3.2.0-py3-none-any.whl (159 kB)\n",
            "\u001b[2K     \u001b[90m━━━━━━━━━━━━━━━━━━━━━━━━━━━━━━━━━━━━━━━━\u001b[0m \u001b[32m159.9/159.9 kB\u001b[0m \u001b[31m3.4 MB/s\u001b[0m eta \u001b[36m0:00:00\u001b[0m\n",
            "\u001b[?25hRequirement already satisfied: python-dateutil>=2.8.2 in /usr/local/lib/python3.10/dist-packages (from pandas) (2.8.2)\n",
            "Requirement already satisfied: pytz>=2020.1 in /usr/local/lib/python3.10/dist-packages (from pandas) (2023.4)\n",
            "Requirement already satisfied: tzdata>=2022.1 in /usr/local/lib/python3.10/dist-packages (from pandas) (2024.1)\n",
            "Requirement already satisfied: numpy>=1.21.0 in /usr/local/lib/python3.10/dist-packages (from pandas) (1.25.2)\n",
            "Requirement already satisfied: six>=1.5 in /usr/local/lib/python3.10/dist-packages (from python-dateutil>=2.8.2->pandas) (1.16.0)\n",
            "Installing collected packages: xlsxwriter\n",
            "Successfully installed xlsxwriter-3.2.0\n"
          ]
        }
      ]
    },
    {
      "cell_type": "code",
      "source": [
        "import pandas as pd\n",
        "\n",
        "# Sample data\n",
        "file_path='/content/rawdata.xlsx'\n",
        "data = pd.read_excel(file_path)\n",
        "# Create DataFrame\n",
        "df = pd.DataFrame(data)\n",
        "\n",
        "# Ensure date and time are strings\n",
        "df['date'] = df['date'].astype(str)\n",
        "df['time'] = df['time'].astype(str)\n",
        "\n",
        "# Convert date and time to datetime format\n",
        "df['datetime'] = pd.to_datetime(df['date'] + ' ' + df['time'])\n",
        "\n",
        "# Normalize position values\n",
        "df['position'] = df['position'].str.lower()\n",
        "\n",
        "# Sort by datetime\n",
        "df = df.sort_values(by='datetime')\n",
        "\n",
        "# Derive total duration for each inside and outside position\n",
        "df['next_datetime'] = df['datetime'].shift(-1)\n",
        "df['duration'] = (df['next_datetime'] - df['datetime']).dt.total_seconds()\n",
        "\n",
        "# Filter out the rows where next_datetime is NaT (last row)\n",
        "df = df[df['next_datetime'].notna()]\n",
        "\n",
        "# Group by date and position to calculate total duration\n",
        "duration_df = df.groupby([df['datetime'].dt.date, 'position'])['duration'].sum().reset_index()\n",
        "duration_df.columns = ['date', 'position', 'total_duration']\n",
        "\n",
        "# Pivot the duration dataframe to get inside and outside durations in separate columns\n",
        "duration_pivot_df = duration_df.pivot(index='date', columns='position', values='total_duration').reset_index()\n",
        "duration_pivot_df = duration_pivot_df.rename_axis(None, axis=1).fillna(0)\n",
        "duration_pivot_df.columns = ['date', 'inside_duration', 'outside_duration']\n",
        "\n",
        "# Group by date and activity to count number of activities\n",
        "activity_count_df = df.groupby([df['datetime'].dt.date, 'activity']).size().reset_index(name='count')\n",
        "activity_count_df.columns = ['date', 'activity', 'count']\n",
        "\n",
        "# Pivot the activity count dataframe to get pick and place activities in separate columns\n",
        "activity_pivot_df = activity_count_df.pivot(index='date', columns='activity', values='count').reset_index()\n",
        "activity_pivot_df = activity_pivot_df.rename_axis(None, axis=1).fillna(0)\n",
        "activity_pivot_df.columns = ['date', 'pick_activities', 'place_activities']\n",
        "\n",
        "# Merge the duration and activity dataframes on the date column\n",
        "final_df = pd.merge(duration_pivot_df, activity_pivot_df, on='date', how='left').fillna(0)\n",
        "\n",
        "# Print results\n",
        "print(\"Final DataFrame:\")\n",
        "print(final_df)\n",
        "\n",
        "# Save to Excel file with formatting\n",
        "with pd.ExcelWriter('output.xlsx', engine='xlsxwriter') as writer:\n",
        "    final_df.to_excel(writer, sheet_name='Summary', index=False)\n",
        "\n",
        "    # Get the xlsxwriter objects\n",
        "    workbook = writer.book\n",
        "    sheet = writer.sheets['Summary']\n",
        "\n",
        "    # Set column widths for better visibility\n",
        "    for column in final_df:\n",
        "        max_len = final_df[column].astype(str).map(len).max()\n",
        "        col_idx = final_df.columns.get_loc(column)\n",
        "        sheet.set_column(col_idx, col_idx, max_len + 2)\n",
        "\n",
        "print(\"\\nFinal DataFrame saved to 'output.xlsx'.\")\n"
      ],
      "metadata": {
        "colab": {
          "base_uri": "https://localhost:8080/"
        },
        "id": "qKylfSmllPuY",
        "outputId": "fe8a5d11-3660-42c9-f4f1-03a199183898"
      },
      "execution_count": 18,
      "outputs": [
        {
          "output_type": "stream",
          "name": "stdout",
          "text": [
            "Final DataFrame:\n",
            "         date  inside_duration  outside_duration  pick_activities  \\\n",
            "0  2024-01-16         122890.0               0.0               40   \n",
            "1  2024-01-17          86400.0               0.0               10   \n",
            "2  2024-01-18          30777.0            2813.0               36   \n",
            "\n",
            "   place_activities  \n",
            "0                40  \n",
            "1                 9  \n",
            "2                39  \n",
            "\n",
            "Final DataFrame saved to 'output.xlsx'.\n"
          ]
        }
      ]
    },
    {
      "cell_type": "code",
      "source": [],
      "metadata": {
        "id": "R0bEz5-3qHUi"
      },
      "execution_count": null,
      "outputs": []
    }
  ]
}